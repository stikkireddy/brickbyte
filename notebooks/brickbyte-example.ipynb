{
 "cells": [
  {
   "cell_type": "code",
   "execution_count": 0,
   "metadata": {
    "application/vnd.databricks.v1+cell": {
     "cellMetadata": {
      "byteLimit": 2048000,
      "rowLimit": 10000
     },
     "inputWidgets": {},
     "nuid": "7ba4088c-5cec-48bc-984d-13b9faf44776",
     "showTitle": false,
     "tableResultSettingsMap": {},
     "title": ""
    }
   },
   "outputs": [],
   "source": [
    "%pip install airbyte\n",
    "dbutils.library.restartPython()"
   ]
  },
  {
   "cell_type": "code",
   "execution_count": 0,
   "metadata": {
    "application/vnd.databricks.v1+cell": {
     "cellMetadata": {
      "byteLimit": 2048000,
      "rowLimit": 10000
     },
     "inputWidgets": {},
     "nuid": "ac6d2abd-baff-4b16-aade-0c7f365504d3",
     "showTitle": false,
     "tableResultSettingsMap": {},
     "title": ""
    }
   },
   "outputs": [],
   "source": [
    "%pip install git+https://github.com/stikkireddy/brickbyte.git@88ac6e8 --force-reinstall --no-deps\n",
    "dbutils.library.restartPython()"
   ]
  },
  {
   "cell_type": "code",
   "execution_count": 0,
   "metadata": {
    "application/vnd.databricks.v1+cell": {
     "cellMetadata": {
      "byteLimit": 2048000,
      "rowLimit": 10000
     },
     "inputWidgets": {},
     "nuid": "e87b2bb8-9486-49e7-8e0f-27675feaebf6",
     "showTitle": false,
     "tableResultSettingsMap": {},
     "title": ""
    }
   },
   "outputs": [],
   "source": [
    "from brickbyte import BrickByte\n",
    "\n",
    "bb = BrickByte(sources=[\"source-faker\"], destination=\"destination-databricks\", destination_install=\"git+https://github.com/stikkireddy/brickbyte.git@88ac6e8#subdirectory=integrations/destination-databricks-py\")\n",
    "\n",
    "bb.setup()"
   ]
  },
  {
   "cell_type": "code",
   "execution_count": 0,
   "metadata": {
    "application/vnd.databricks.v1+cell": {
     "cellMetadata": {
      "byteLimit": 2048000,
      "rowLimit": 10000
     },
     "inputWidgets": {},
     "nuid": "c00c2d90-4c77-433c-a4a6-c5201b028fa5",
     "showTitle": false,
     "tableResultSettingsMap": {},
     "title": ""
    }
   },
   "outputs": [],
   "source": [
    "from __future__ import annotations\n",
    "\n",
    "import airbyte as ab\n",
    "\n",
    "import os\n",
    "\n",
    "FORCE_FULL_REFRESH = True  # Whether to force a full refresh on the source.\n",
    "\n",
    "cache = bb.get_or_create_cache()\n",
    "source = ab.get_source(\n",
    "    \"source-faker\",\n",
    "    config={\"count\": 100},\n",
    "    # this will get you the source installation from the venv\n",
    "    local_executable=bb.get_source_exec_path(\"source-faker\")\n",
    ")\n",
    "source.check()\n",
    "source.select_all_streams()\n",
    "\n",
    "destination = ab.get_destination(\"destination-databricks\",\n",
    "                          config={\n",
    "                              # copy from the warehouse ui\n",
    "                              \"server_hostname\": \"\",\n",
    "                              \"http_path\": \"\",\n",
    "                              \"token\": \"\",\n",
    "                              \"catalog\": \"\",\n",
    "                              \"schema\": \"\",\n",
    "                          },\n",
    "                            # this will get you the source installation from the venv\n",
    "                            local_executable=bb.get_destination_exec_path()\n",
    "                          )\n",
    "\n",
    "write_result = destination.write(source, cache=cache, force_full_refresh=FORCE_FULL_REFRESH)\n"
   ]
  },
  {
   "cell_type": "code",
   "execution_count": 0,
   "metadata": {
    "application/vnd.databricks.v1+cell": {
     "cellMetadata": {
      "byteLimit": 2048000,
      "rowLimit": 10000
     },
     "inputWidgets": {},
     "nuid": "bbb5ec24-d5bc-4545-b91c-e423e6cb3125",
     "showTitle": false,
     "tableResultSettingsMap": {},
     "title": ""
    }
   },
   "outputs": [],
   "source": [
    "bb.cleanup()"
   ]
  },
  {
   "cell_type": "code",
   "execution_count": 0,
   "metadata": {
    "application/vnd.databricks.v1+cell": {
     "cellMetadata": {},
     "inputWidgets": {},
     "nuid": "e9f21dbb-5ff6-4183-828d-fc92855f6e8a",
     "showTitle": false,
     "tableResultSettingsMap": {},
     "title": ""
    }
   },
   "outputs": [],
   "source": []
  }
 ],
 "metadata": {
  "application/vnd.databricks.v1+notebook": {
   "dashboards": [],
   "environmentMetadata": {
    "base_environment": "",
    "client": "1"
   },
   "language": "python",
   "notebookMetadata": {
    "mostRecentlyExecutedCommandWithImplicitDF": {
     "commandId": 455928964388323,
     "dataframes": [
      "_sqldf"
     ]
    },
    "pythonIndentUnit": 2
   },
   "notebookName": "brickbyte",
   "widgets": {}
  },
  "language_info": {
   "name": "python"
  }
 },
 "nbformat": 4,
 "nbformat_minor": 0
}
